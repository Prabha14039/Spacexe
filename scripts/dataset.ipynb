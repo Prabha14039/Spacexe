{
  "cells": [
    {
      "cell_type": "code",
      "source": [
        "from PIL import Image\n",
        "import os\n",
        "\n",
        "def crop_image(input_path, output_dir, crop_size=(1200, 1200)):\n",
        "    # Open the image file\n",
        "    with Image.open(input_path) as img:\n",
        "        img_width, img_height = img.size\n",
        "        crop_width, crop_height = crop_size\n",
        "\n",
        "        # Create output directory if it doesn't exist\n",
        "        os.makedirs(output_dir, exist_ok=True)\n",
        "\n",
        "        # Crop the image into multiple pieces\n",
        "        piece_count = 72\n",
        "        for top in range(0, img_height, crop_height):\n",
        "            for left in range(0, img_width, crop_width):\n",
        "                # Define the box to crop\n",
        "                box = (left, top, left + crop_width, top + crop_height)\n",
        "                # Crop and save the image piece\n",
        "                img_cropped = img.crop(box)\n",
        "                piece_filename = os.path.join(output_dir, f'piece_{piece_count}.png')\n",
        "                img_cropped.save(piece_filename)\n",
        "                piece_count += 1\n",
        "\n",
        "# Example usage\n",
        "input_image_path = '/content/ch2_ohr_ncp_20230820T0559124374_b_brw_n18.png'\n",
        "output_directory = 'directory'\n",
        "crop_image(input_image_path, output_directory)\n"
      ],
      "metadata": {
        "id": "BqiCYi8miuot"
      },
      "execution_count": null,
      "outputs": [],
      "id": "BqiCYi8miuot"
    },
    {
      "cell_type": "code",
      "source": [
        "import cv2\n",
        "import numpy as np\n",
        "\n",
        "# Load the image\n",
        "image = cv2.imread('/content/directory/piece_6.png')\n",
        "\n",
        "# Step 1: Noise Reduction\n",
        "blurred_image = cv2.GaussianBlur(image, (5, 5), 0)\n",
        "\n",
        "# Step 2: Contrast and Brightness Enhancement\n",
        "alpha = 1.5  # Contrast control\n",
        "beta = 50    # Brightness control\n",
        "enhanced_image = cv2.convertScaleAbs(blurred_image, alpha=alpha, beta=beta)\n",
        "\n",
        "# Save the final processed image\n",
        "cv2.imwrite('directory/piece_06.png', enhanced_image)\n"
      ],
      "metadata": {
        "colab": {
          "base_uri": "https://localhost:8080/"
        },
        "id": "LY_UM5pAwjHq",
        "outputId": "1af007b9-9249-49bf-f98a-d93b543c1df8"
      },
      "execution_count": null,
      "outputs": [
        {
          "output_type": "execute_result",
          "data": {
            "text/plain": [
              "True"
            ]
          },
          "metadata": {},
          "execution_count": 21
        }
      ],
      "id": "LY_UM5pAwjHq"
    },
    {
      "cell_type": "code",
      "source": [
        "import cv2\n",
        "import os\n",
        "\n",
        "def process_image(input_path, output_path, alpha=1.5, beta=50):\n",
        "    # Load the image\n",
        "    image = cv2.imread(input_path)\n",
        "\n",
        "    # Step 1: Noise Reduction\n",
        "    blurred_image = cv2.GaussianBlur(image, (5, 5), 0)\n",
        "\n",
        "    # Step 2: Contrast and Brightness Enhancement\n",
        "    enhanced_image = cv2.convertScaleAbs(blurred_image, alpha=alpha, beta=beta)\n",
        "\n",
        "    # Save the final processed image\n",
        "    cv2.imwrite(output_path, enhanced_image)\n",
        "\n",
        "def process_images_in_directory(directory, alpha=1.5, beta=50):\n",
        "    for filename in os.listdir(directory):\n",
        "        if filename.endswith('.png') or filename.endswith('.jpg'):\n",
        "            # Construct input file path\n",
        "            input_path = os.path.join(directory, filename)\n",
        "\n",
        "            # Update file name to add leading zeros before the number\n",
        "            base_name, ext = os.path.splitext(filename)\n",
        "            parts = base_name.split('_')\n",
        "            if parts[-1].isdigit():\n",
        "                parts[-1] = parts[-1].zfill(3)  # Ensure the number has three digits\n",
        "            new_base_name = '_'.join(parts)\n",
        "            output_filename = new_base_name + ext\n",
        "\n",
        "            # Construct output file path\n",
        "            output_path = os.path.join(directory, output_filename)\n",
        "\n",
        "            # Process and save the image\n",
        "            process_image(input_path, output_path, alpha, beta)\n",
        "            print(f\"Processed and saved: {output_path}\")\n",
        "\n",
        "# Example usage\n",
        "directory = '/content/directory'\n",
        "\n",
        "process_images_in_directory(directory)\n"
      ],
      "metadata": {
        "colab": {
          "base_uri": "https://localhost:8080/"
        },
        "collapsed": true,
        "id": "BkprYby5RRcB",
        "outputId": "64781d95-9b76-4b29-eb95-81a582533c75"
      },
      "id": "BkprYby5RRcB",
      "execution_count": null,
      "outputs": [
        {
          "output_type": "stream",
          "name": "stdout",
          "text": [
            "Processed and saved: /content/directory/piece_006.png\n",
            "Processed and saved: /content/directory/piece_045.png\n",
            "Processed and saved: /content/directory/piece_001.png\n",
            "Processed and saved: /content/directory/piece_071.png\n",
            "Processed and saved: /content/directory/piece_055.png\n",
            "Processed and saved: /content/directory/piece_036.png\n",
            "Processed and saved: /content/directory/piece_001.png\n",
            "Processed and saved: /content/directory/piece_007.png\n",
            "Processed and saved: /content/directory/piece_010.png\n",
            "Processed and saved: /content/directory/piece_054.png\n",
            "Processed and saved: /content/directory/piece_026.png\n",
            "Processed and saved: /content/directory/piece_006.png\n",
            "Processed and saved: /content/directory/piece_018.png\n",
            "Processed and saved: /content/directory/piece_000.png\n",
            "Processed and saved: /content/directory/piece_050.png\n",
            "Processed and saved: /content/directory/piece_074.png\n",
            "Processed and saved: /content/directory/piece_072.png\n",
            "Processed and saved: /content/directory/piece_002.png\n",
            "Processed and saved: /content/directory/piece_031.png\n",
            "Processed and saved: /content/directory/piece_049.png\n",
            "Processed and saved: /content/directory/piece_015.png\n",
            "Processed and saved: /content/directory/piece_065.png\n",
            "Processed and saved: /content/directory/piece_056.png\n",
            "Processed and saved: /content/directory/piece_024.png\n",
            "Processed and saved: /content/directory/piece_066.png\n",
            "Processed and saved: /content/directory/piece_003.png\n",
            "Processed and saved: /content/directory/piece_057.png\n",
            "Processed and saved: /content/directory/piece_000.png\n",
            "Processed and saved: /content/directory/piece_053.png\n",
            "Processed and saved: /content/directory/piece_044.png\n",
            "Processed and saved: /content/directory/piece_040.png\n",
            "Processed and saved: /content/directory/piece_042.png\n",
            "Processed and saved: /content/directory/piece_058.png\n",
            "Processed and saved: /content/directory/piece_079.png\n",
            "Processed and saved: /content/directory/piece_070.png\n",
            "Processed and saved: /content/directory/piece_020.png\n",
            "Processed and saved: /content/directory/piece_075.png\n",
            "Processed and saved: /content/directory/piece_077.png\n",
            "Processed and saved: /content/directory/piece_034.png\n",
            "Processed and saved: /content/directory/piece_027.png\n",
            "Processed and saved: /content/directory/piece_004.png\n",
            "Processed and saved: /content/directory/piece_048.png\n",
            "Processed and saved: /content/directory/piece_041.png\n",
            "Processed and saved: /content/directory/piece_022.png\n",
            "Processed and saved: /content/directory/piece_002.png\n",
            "Processed and saved: /content/directory/piece_047.png\n",
            "Processed and saved: /content/directory/piece_016.png\n",
            "Processed and saved: /content/directory/piece_076.png\n",
            "Processed and saved: /content/directory/piece_011.png\n",
            "Processed and saved: /content/directory/piece_009.png\n",
            "Processed and saved: /content/directory/piece_078.png\n",
            "Processed and saved: /content/directory/piece_035.png\n",
            "Processed and saved: /content/directory/piece_005.png\n",
            "Processed and saved: /content/directory/piece_039.png\n",
            "Processed and saved: /content/directory/piece_038.png\n",
            "Processed and saved: /content/directory/piece_067.png\n",
            "Processed and saved: /content/directory/piece_080.png\n",
            "Processed and saved: /content/directory/piece_037.png\n",
            "Processed and saved: /content/directory/piece_029.png\n",
            "Processed and saved: /content/directory/piece_061.png\n",
            "Processed and saved: /content/directory/piece_059.png\n",
            "Processed and saved: /content/directory/piece_014.png\n",
            "Processed and saved: /content/directory/piece_033.png\n",
            "Processed and saved: /content/directory/piece_013.png\n",
            "Processed and saved: /content/directory/piece_005.png\n",
            "Processed and saved: /content/directory/piece_003.png\n",
            "Processed and saved: /content/directory/piece_028.png\n",
            "Processed and saved: /content/directory/piece_073.png\n",
            "Processed and saved: /content/directory/piece_051.png\n",
            "Processed and saved: /content/directory/piece_060.png\n",
            "Processed and saved: /content/directory/piece_068.png\n",
            "Processed and saved: /content/directory/piece_043.png\n",
            "Processed and saved: /content/directory/piece_017.png\n",
            "Processed and saved: /content/directory/piece_021.png\n",
            "Processed and saved: /content/directory/piece_025.png\n",
            "Processed and saved: /content/directory/piece_004.png\n",
            "Processed and saved: /content/directory/piece_052.png\n",
            "Processed and saved: /content/directory/piece_023.png\n",
            "Processed and saved: /content/directory/piece_069.png\n",
            "Processed and saved: /content/directory/piece_012.png\n",
            "Processed and saved: /content/directory/piece_063.png\n",
            "Processed and saved: /content/directory/piece_032.png\n",
            "Processed and saved: /content/directory/piece_019.png\n",
            "Processed and saved: /content/directory/piece_030.png\n",
            "Processed and saved: /content/directory/piece_064.png\n",
            "Processed and saved: /content/directory/piece_062.png\n",
            "Processed and saved: /content/directory/piece_046.png\n",
            "Processed and saved: /content/directory/piece_008.png\n"
          ]
        }
      ]
    },
    {
      "cell_type": "code",
      "source": [
        "import json\n",
        "\n",
        "# Load the input JSON data\n",
        "input_file = 'piece.json'\n",
        "with open(input_file, 'r') as f:\n",
        "    data = json.load(f)\n",
        "\n",
        "# Define image and category information\n",
        "image_id = 50 # Unique ID for the image\n",
        "image_filename = \"../../images/train/piece_22.png\"  # Replace with your actual image filename\n",
        "image_width = 1200  # Replace with the actual image width\n",
        "image_height = 1200  # Replace with the actual image height\n",
        "categories = [{\"id\": 0, \"name\": \"crater\"}]\n",
        "\n",
        "# Convert data to COCO format\n",
        "annotations = []\n",
        "for idx, prediction in enumerate(data[\"predictions\"]):\n",
        "    x, y, width, height = prediction[\"x\"], prediction[\"y\"], prediction[\"width\"], prediction[\"height\"]\n",
        "    annotations.append({\n",
        "        \"id\": idx + 1,\n",
        "        \"image_id\": image_id,\n",
        "        \"category_id\": prediction[\"class_id\"],\n",
        "        \"bbox\": [x, y, width, height],\n",
        "        \"area\": width * height,\n",
        "        \"iscrowd\": 0\n",
        "    })\n",
        "\n",
        "coco_format = {\n",
        "    \"images\": [{\n",
        "        \"id\": image_id,\n",
        "        \"file_name\": image_filename,\n",
        "        \"width\": image_width,\n",
        "        \"height\": image_height\n",
        "    }],\n",
        "    \"annotations\": annotations,\n",
        "    \"categories\": categories\n",
        "}\n",
        "\n",
        "# Save to a JSON file\n",
        "output_file = 'anotation/train/coco_022.json'\n",
        "with open(output_file, 'w') as f:\n",
        "    json.dump(coco_format, f, indent=4)\n",
        "\n",
        "print(f\"COCO format JSON saved to {output_file}\")"
      ],
      "metadata": {
        "colab": {
          "base_uri": "https://localhost:8080/"
        },
        "id": "cD3AkVI7Sd1p",
        "outputId": "1c2179e8-f34f-49e6-d588-4b522f2f7779"
      },
      "id": "cD3AkVI7Sd1p",
      "execution_count": 78,
      "outputs": [
        {
          "output_type": "stream",
          "name": "stdout",
          "text": [
            "COCO format JSON saved to anotation/train/coco_022.json\n"
          ]
        }
      ]
    },
    {
      "cell_type": "code",
      "source": [],
      "metadata": {
        "id": "uFSikMkPWX4O"
      },
      "id": "uFSikMkPWX4O",
      "execution_count": null,
      "outputs": []
    }
  ],
  "metadata": {
    "kernelspec": {
      "display_name": "Python 3 (ipykernel)",
      "language": "python",
      "name": "python3"
    },
    "language_info": {
      "codemirror_mode": {
        "name": "ipython",
        "version": 3
      },
      "file_extension": ".py",
      "mimetype": "text/x-python",
      "name": "python",
      "nbconvert_exporter": "python",
      "pygments_lexer": "ipython3",
      "version": "3.12.4"
    },
    "colab": {
      "provenance": []
    }
  },
  "nbformat": 4,
  "nbformat_minor": 5
}